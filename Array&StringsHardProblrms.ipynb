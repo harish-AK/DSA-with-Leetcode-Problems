{
 "cells": [
  {
   "cell_type": "code",
   "execution_count": 1,
   "metadata": {},
   "outputs": [
    {
     "name": "stdout",
     "output_type": "stream",
     "text": [
      "[3, 4, 5, 2]\n",
      "res  [[3, 4, 2]]\n"
     ]
    },
    {
     "data": {
      "text/plain": [
       "[[3, 4, 2]]"
      ]
     },
     "execution_count": 1,
     "metadata": {},
     "output_type": "execute_result"
    }
   ],
   "source": [
    "# zoho\n",
    "# sub set sum equal to target\n",
    "arr = [3,34,4,5,12,2]\n",
    "tar = 9\n",
    "arr = [x for x in arr if x < tar]\n",
    "print(arr)\n",
    "\n",
    "# [3, 4, 5, 2]\n",
    "\n",
    "res = []\n",
    "count = 0\n",
    "for j in range(count,len(arr)):\n",
    "    vals = []\n",
    "    for i in range(len(arr)):\n",
    "\n",
    "        vals.append(arr[i])\n",
    "\n",
    "        if sum(vals) == tar and vals not in res:\n",
    "            res.append(vals)\n",
    "            print(\"res \",res)\n",
    "            count += 1\n",
    "        \n",
    "        elif sum(vals) > tar:\n",
    "            vals.pop()\n",
    "res"
   ]
  },
  {
   "cell_type": "code",
   "execution_count": 2,
   "metadata": {},
   "outputs": [],
   "source": [
    "w = \"abc\" # output = a forbc\n",
    "sen = \"a this a plabtob wahtba a forbc summing a ba\"\n"
   ]
  },
  {
   "cell_type": "code",
   "execution_count": 3,
   "metadata": {},
   "outputs": [],
   "source": [
    "# matrix\n",
    "k = 4 # output - 9*9*9*9 (maximum product either by vertical horizontal or diagonal)\n",
    "arr = [[1,2,3,4,5],\n",
    "       [6,8,9,2,9],\n",
    "       [3,5,6,4,9],\n",
    "       [7,8,9,8,9],\n",
    "       [3,4,5,6,9]]\n"
   ]
  },
  {
   "cell_type": "code",
   "execution_count": 4,
   "metadata": {},
   "outputs": [
    {
     "name": "stdout",
     "output_type": "stream",
     "text": [
      "[1, 2, 3, 15, 4000, 99999, 100000]\n",
      "4\n"
     ]
    }
   ],
   "source": [
    "nums = [100000, 3, 4000, 2, 15, 1, 99999]\n",
    "print(sorted(nums))\n",
    "nums.sort() # [-1,1,3,4]\n",
    "miss = None\n",
    "for i in range(len(nums)-1):\n",
    "    if nums[i] > 0 and nums[i+1] - nums[i] > 1:\n",
    "        miss = nums[i]+1\n",
    "        break\n",
    "print(nums[-1]+1 if miss is None else miss)"
   ]
  },
  {
   "cell_type": "code",
   "execution_count": 5,
   "metadata": {},
   "outputs": [
    {
     "data": {
      "text/plain": [
       "6"
      ]
     },
     "execution_count": 5,
     "metadata": {},
     "output_type": "execute_result"
    }
   ],
   "source": [
    "# buy and sell stocks 3\n",
    "# Input: prices = [3,3,5,0,0,3,1,4]\n",
    "# Output: 6\n",
    "# Explanation: Buy on day 4 (price = 0) and sell on day 6 (price = 3), profit = 3-0 = 3.\n",
    "# Then buy on day 7 (price = 1) and sell on day 8 (price = 4), profit = 4-1 = 3.\n",
    "\n",
    "prices = [3,3,5,0,0,3,1,4]\n",
    "\n",
    "b1 = float('inf')\n",
    "p1 = 0\n",
    "b2 = float('inf')\n",
    "p2 = 0\n",
    "for p in prices:\n",
    "    b1 = min(b1,p)\n",
    "    p1 = max(p1,p-b1)\n",
    "    b2 = min(b2,p-p1)\n",
    "    p2 = max(p2,p-b2)\n",
    "p2\n",
    "\n",
    "# pro = 0\n",
    "# res = []\n",
    "# for i in range(len(prices)-1):\n",
    "#     if prices[i] < prices[i+1]:\n",
    "#         res.append(prices[i+1] - prices[i])\n",
    "# print(res)\n",
    "\n",
    "# if len(res) >= 2:\n",
    "#     print(res[-2]+res[-1])\n",
    "\n",
    "# if not res:\n",
    "#     print(0)\n",
    "\n",
    "# elif len(prices) <= 3:\n",
    "#     val = 0\n",
    "#     for i in range(len(prices)-1):\n",
    "#         if prices[i] < prices[i+1]:\n",
    "#             val += prices[i+1] - prices[i]\n",
    "# val\n",
    "\n",
    "# n = len(prices)\n",
    "# left = [0]*n\n",
    "# minp = prices[0]\n",
    "# for i in range(1,n):\n",
    "#     minp = min(minp,prices[i])\n",
    "#     left[i] = max(left[i-1],prices[i]-minp) # left part keep the track of profit of lowest buy point to best sell point.\n",
    "# print(left)\n",
    "\n",
    "# right = [0]*n\n",
    "# maxp = prices[n-1] # 4\n",
    "# for i in range(n-2,-1,-1):\n",
    "#     maxp = max(maxp,prices[i])\n",
    "#     right[i] = max(right[i+1],maxp-prices[i])\n",
    "# print(right)\n",
    "\n",
    "# pro = 0\n",
    "# for i in range(n):\n",
    "#     pro = max(pro,left[i]+right[i])\n",
    "# pro"
   ]
  },
  {
   "cell_type": "code",
   "execution_count": 25,
   "metadata": {},
   "outputs": [
    {
     "name": "stdout",
     "output_type": "stream",
     "text": [
      "[1, 1, 2]\n"
     ]
    },
    {
     "data": {
      "text/plain": [
       "5"
      ]
     },
     "execution_count": 25,
     "metadata": {},
     "output_type": "execute_result"
    }
   ],
   "source": [
    "# candy\n",
    "# There are n children standing in a line. Each child is assigned a rating value given in the integer array ratings.\n",
    "\n",
    "# You are giving candies to these children subjected to the following requirements:\n",
    "\n",
    "# Each child must have at least one candy.\n",
    "# Children with a higher rating get more candies than their neighbors.\n",
    "# Return the minimum number of candies you need to have to distribute the candies to the children.\n",
    "\n",
    " \n",
    "\n",
    "# Example 1:\n",
    "\n",
    "# Input: ratings = [1,0,2]\n",
    "# Output: 5\n",
    "# Explanation: You can allocate to the first, second and third child with 2, 1, 2 candies respectively.\n",
    "# Example 2:\n",
    "\n",
    "# Input: ratings = [1,2,2]\n",
    "# Output: 4\n",
    "# Explanation: You can allocate to the first, second and third child with 1, 2, 1 candies respectively.\n",
    "# The third child gets 1 candy because it satisfies the above two conditions.\n",
    "\n",
    "ratings = [1,0,2]\n",
    "\n",
    "rat = [1]*len(ratings)\n",
    "\n",
    "for i in range(1,len(ratings)):\n",
    "    if ratings[i] > ratings[i-1]:\n",
    "        rat[i] = rat[i-1]+1\n",
    "print(rat)\n",
    "\n",
    "for i in range(len(ratings)-2,-1,-1):\n",
    "    if ratings[i] > ratings[i+1]:\n",
    "        rat[i] = max(rat[i],rat[i+1]+1)\n",
    "\n",
    "sum(rat)"
   ]
  },
  {
   "cell_type": "code",
   "execution_count": 5,
   "metadata": {},
   "outputs": [
    {
     "data": {
      "text/plain": [
       "[5, 6, 7, 1, 2, 3, 4]"
      ]
     },
     "execution_count": 5,
     "metadata": {},
     "output_type": "execute_result"
    }
   ],
   "source": [
    "# rotate array\n",
    "# Input: nums = [1,2,3,4,5,6,7], k = 3\n",
    "# Output: [5,6,7,1,2,3,4]\n",
    "# Explanation:\n",
    "# rotate 1 steps to the right: [7,1,2,3,4,5,6]\n",
    "# rotate 2 steps to the right: [6,7,1,2,3,4,5]\n",
    "# rotate 3 steps to the right: [5,6,7,1,2,3,4]\n",
    "\n",
    "nums = [1,2,3,4,5,6,7]\n",
    "k = 3\n",
    "cou = 0\n",
    "while cou < k:\n",
    "    nums.insert(0,nums.pop())\n",
    "    cou += 1\n",
    "nums"
   ]
  },
  {
   "cell_type": "code",
   "execution_count": 13,
   "metadata": {},
   "outputs": [
    {
     "data": {
      "text/plain": [
       "0"
      ]
     },
     "execution_count": 13,
     "metadata": {},
     "output_type": "execute_result"
    }
   ],
   "source": [
    "# minimum in rotated sorted array\n",
    "# Suppose an array of length n sorted in ascending order is rotated between 1 and n times. For example, the array nums = [0,1,4,4,5,6,7] might become:\n",
    "\n",
    "# [4,5,6,7,0,1,4] if it was rotated 4 times.\n",
    "# [0,1,4,4,5,6,7] if it was rotated 7 times.\n",
    "# Notice that rotating an array [a[0], a[1], a[2], ..., a[n-1]] 1 time results in the array [a[n-1], a[0], a[1], a[2], ..., a[n-2]].\n",
    "\n",
    "# Given the sorted rotated array nums that may contain duplicates, return the minimum element of this array.\n",
    "\n",
    "# You must decrease the overall operation steps as much as possible.\n",
    "\n",
    " \n",
    "\n",
    "# Example 1:\n",
    "\n",
    "# Input: nums = [1,3,5]\n",
    "# Output: 1\n",
    "# Example 2:\n",
    "\n",
    "# Input: nums = [2,2,2,0,1]\n",
    "# Output: 0\n",
    "nums = [2,2,2,0,1]\n",
    "l,r = 0,len(nums)-1\n",
    "\n",
    "while l < r:\n",
    "    mid = l+(r-l)//2\n",
    "    if nums[mid] > nums[r]:\n",
    "        l = mid+1\n",
    "    elif nums[mid] < nums[r]:\n",
    "        r = mid\n",
    "    else:\n",
    "        r -= 1\n",
    "nums[l]"
   ]
  },
  {
   "cell_type": "code",
   "execution_count": 45,
   "metadata": {},
   "outputs": [
    {
     "name": "stdout",
     "output_type": "stream",
     "text": [
      "[[7, 5, 2], [6, 11, 5], [1, 1, 6]]\n"
     ]
    }
   ],
   "source": [
    "# dungeon game\n",
    "# The demons had captured the princess and imprisoned her in the bottom-right corner of a dungeon. The dungeon consists of m x n rooms laid \n",
    "# out in a 2D grid. Our valiant knight was initially positioned in the top-left room and must fight his way through dungeon to rescue the \n",
    "# princess.\n",
    "\n",
    "# The knight has an initial health point represented by a positive integer. If at any point his health point drops to 0 or below, he dies \n",
    "# immediately.\n",
    "\n",
    "# Some of the rooms are guarded by demons (represented by negative integers), so the knight loses health upon entering these rooms; other \n",
    "# rooms are either empty (represented as 0) or contain magic orbs that increase the knight's health (represented by positive integers).\n",
    "\n",
    "# To reach the princess as quickly as possible, the knight decides to move only rightward or downward in each step.\n",
    "\n",
    "# Return the knight's minimum initial health so that he can rescue the princess.\n",
    "\n",
    "# Note that any room can contain threats or power-ups, even the first room the knight enters and the bottom-right room where the princess \n",
    "# is imprisoned.\n",
    "\n",
    " \n",
    "\n",
    "# Example 1:\n",
    "\n",
    "\n",
    "# Input: dungeon = [[-2,-3,3],[-5,-10,1],[10,30,-5]]\n",
    "# Output: 7\n",
    "# Explanation: The initial health of the knight must be at least 7 if he follows the optimal path: RIGHT-> RIGHT -> DOWN -> DOWN.\n",
    "# Example 2:\n",
    "\n",
    "# Input: dungeon = [[0]]\n",
    "# Output: 1\n",
    "dungeon = [[-2, -3, 3], \n",
    "           [-5, -10, 1], \n",
    "           [10, 30, -5]]\n",
    "\n",
    "m, n = len(dungeon), len(dungeon[0])\n",
    "\n",
    "# Create DP array, initialized with infinity\n",
    "dp = [[float('inf')] * n for _ in range(m)]\n",
    "\n",
    "# Initialize the bottom-right corner: the knight needs enough health to survive at the princess's location\n",
    "dp[m-1][n-1] = max(1, 1 - dungeon[m-1][n-1])\n",
    "\n",
    "# Fill the last column (moving only down)\n",
    "for i in range(m-2, -1, -1):  # Start from the second-last row and move upwards\n",
    "    dp[i][n-1] = max(1, dp[i+1][n-1] - dungeon[i][n-1])\n",
    "\n",
    "# Fill the last row (moving only right)\n",
    "for j in range(n-2, -1, -1):  # Start from the second-last column and move leftwards\n",
    "    dp[m-1][j] = max(1, dp[m-1][j+1] - dungeon[m-1][j])\n",
    "\n",
    "# Fill the rest of the DP table (moving both down and right)\n",
    "for i in range(m-2, -1, -1):\n",
    "    for j in range(n-2, -1, -1):\n",
    "        min_health_needed = min(dp[i+1][j], dp[i][j+1]) - dungeon[i][j]\n",
    "        dp[i][j] = max(1, min_health_needed)\n",
    "\n",
    "# The minimum initial health needed is at the top-left corner\n",
    "print(dp)\n"
   ]
  },
  {
   "cell_type": "code",
   "execution_count": 8,
   "metadata": {},
   "outputs": [
    {
     "data": {
      "text/plain": [
       "True"
      ]
     },
     "execution_count": 8,
     "metadata": {},
     "output_type": "execute_result"
    }
   ],
   "source": [
    "# You are given an integer array nums and two integers indexDiff and valueDiff.\n",
    "\n",
    "# Find a pair of indices (i, j) such that:\n",
    "\n",
    "# i != j,\n",
    "# abs(i - j) <= indexDiff.\n",
    "# abs(nums[i] - nums[j]) <= valueDiff, and\n",
    "# Return true if such pair exists or false otherwise.\n",
    "\n",
    " \n",
    "\n",
    "# Example 1:\n",
    "\n",
    "# Input: nums = [1,2,3,1], indexDiff = 3, valueDiff = 0\n",
    "# Output: true\n",
    "# Explanation: We can choose (i, j) = (0, 3).\n",
    "# We satisfy the three conditions:\n",
    "# i != j --> 0 != 3\n",
    "# abs(i - j) <= indexDiff --> abs(0 - 3) <= 3\n",
    "# abs(nums[i] - nums[j]) <= valueDiff --> abs(1 - 1) <= 0\n",
    "\n",
    "nums = [1,2,1,1]\n",
    "indexDiff = 1\n",
    "valueDiff = 0\n",
    "flag = False\n",
    "win = []\n",
    "\n",
    "\n",
    "for i in range(len(nums)):\n",
    "    # Check if any number in the sliding window satisfies the conditions\n",
    "    for num in win:\n",
    "        if abs(num - nums[i]) <= valueDiff:  # Use abs() for value difference\n",
    "            flag = True\n",
    "            break  # Exit the loop if a match is found\n",
    "\n",
    "    # Add the current number to the sliding window\n",
    "    win.append(nums[i])\n",
    "\n",
    "    # Maintain the sliding window size\n",
    "    if len(win) > indexDiff:\n",
    "        win.pop(0)\n",
    "\n",
    "    # Break out of the outer loop early if a match is found\n",
    "    if flag:\n",
    "        break\n",
    "flag\n",
    "\n"
   ]
  },
  {
   "cell_type": "code",
   "execution_count": 12,
   "metadata": {},
   "outputs": [
    {
     "data": {
      "text/plain": [
       "[0, 1, 1, 2]"
      ]
     },
     "execution_count": 12,
     "metadata": {},
     "output_type": "execute_result"
    }
   ],
   "source": [
    "# Given an integer array nums, return an integer array counts where counts[i] is the number of smaller elements to the right of nums[i].\n",
    "# Example 1:\n",
    "\n",
    "# Input: nums = [5,2,6,1]\n",
    "# Output: [2,1,1,0]\n",
    "# Explanation:\n",
    "# To the right of 5 there are 2 smaller elements (2 and 1).\n",
    "# To the right of 2 there is only 1 smaller element (1).\n",
    "# To the right of 6 there is 1 smaller element (1).\n",
    "# To the right of 1 there is 0 smaller element.\n",
    "# Example 2:\n",
    "\n",
    "# Input: nums = [-1]\n",
    "# Output: [0]\n",
    "# Example 3:\n",
    "\n",
    "# Input: nums = [-1,-1]\n",
    "# Output: [0,0]\n",
    "\n",
    "nums = [5,2,6,1]\n",
    "# res = []\n",
    "# for i in range(len(nums)):\n",
    "#     l = [x for x in nums[i+1:] if x < nums[i]]\n",
    "#     res.append(len(l))\n",
    "# res\n",
    "nums = [5,2,6,1]\n",
    "sor = [] # sorted list\n",
    "res = [] # counts\n",
    "\n",
    "def binary(i,sor):\n",
    "    r = len(sor)\n",
    "    l = 0\n",
    "\n",
    "    while l < r:\n",
    "        mid = l+(r-l)//2\n",
    "\n",
    "        if sor[mid] < i:\n",
    "            l = mid+1\n",
    "        else:\n",
    "            r = mid\n",
    "    return l\n",
    "\n",
    "for i in reversed(nums):\n",
    "    idx = binary(i,sor)\n",
    "    res.append(idx)\n",
    "    sor.insert(idx,i)\n",
    "res # ans - res[::-1]\n"
   ]
  },
  {
   "cell_type": "code",
   "execution_count": 32,
   "metadata": {},
   "outputs": [
    {
     "name": "stdout",
     "output_type": "stream",
     "text": [
      "1.00000\n",
      "-1.00000\n",
      "-1.00000\n",
      "3.00000\n",
      "5.00000\n",
      "6.00000\n",
      "[1, -1, -1, 3, 5, 6]\n"
     ]
    }
   ],
   "source": [
    "# The median is the middle value in an ordered integer list. If the size of the list is even, there is no middle value. So the median is the mean of the two middle values.\n",
    "\n",
    "# For examples, if arr = [2,3,4], the median is 3.\n",
    "# For examples, if arr = [1,2,3,4], the median is (2 + 3) / 2 = 2.5.\n",
    "# You are given an integer array nums and an integer k. There is a sliding window of size k which is moving from the very left of the array to the very right. You can only see the k numbers in the window. Each time the sliding window moves right by one position.\n",
    "\n",
    "# Return the median array for each window in the original array. Answers within 10-5 of the actual value will be accepted.\n",
    "\n",
    " \n",
    "\n",
    "# Example 1:\n",
    "\n",
    "# Input: nums = [1,3,-1,-3,5,3,6,7], k = 3\n",
    "# Output: [1.00000,-1.00000,-1.00000,3.00000,5.00000,6.00000]\n",
    "# Explanation: \n",
    "# Window position                Median\n",
    "# ---------------                -----\n",
    "# [1  3  -1] -3  5  3  6  7        1\n",
    "#  1 [3  -1  -3] 5  3  6  7       -1\n",
    "#  1  3 [-1  -3  5] 3  6  7       -1\n",
    "#  1  3  -1 [-3  5  3] 6  7        3\n",
    "#  1  3  -1  -3 [5  3  6] 7        5\n",
    "#  1  3  -1  -3  5 [3  6  7]       6\n",
    "nums = [1, 3, -1, -3, 5, 3, 6, 7]\n",
    "k = 3\n",
    "medians = []\n",
    "\n",
    "# Generate the sliding windows\n",
    "for i in range(len(nums) - k + 1):\n",
    "    window = nums[i:k+i]\n",
    "    sorted_window = sorted(window)\n",
    "    \n",
    "    if k % 2 != 0:  \n",
    "        median = sorted_window[k // 2]\n",
    "    else:  \n",
    "        median = (sorted_window[k // 2] + sorted_window[k // 2 - 1]) / 2\n",
    "    \n",
    "    medians.append(median)\n",
    "\n",
    "for median in medians:\n",
    "    print(f\"{median:.5f}\")\n",
    "\n",
    "print(medians)\n"
   ]
  },
  {
   "cell_type": "code",
   "execution_count": null,
   "metadata": {},
   "outputs": [],
   "source": []
  },
  {
   "cell_type": "code",
   "execution_count": null,
   "metadata": {},
   "outputs": [],
   "source": []
  },
  {
   "cell_type": "code",
   "execution_count": null,
   "metadata": {},
   "outputs": [],
   "source": []
  }
 ],
 "metadata": {
  "kernelspec": {
   "display_name": "ipykernel",
   "language": "python",
   "name": "base"
  },
  "language_info": {
   "codemirror_mode": {
    "name": "ipython",
    "version": 3
   },
   "file_extension": ".py",
   "mimetype": "text/x-python",
   "name": "python",
   "nbconvert_exporter": "python",
   "pygments_lexer": "ipython3",
   "version": "3.12.4"
  }
 },
 "nbformat": 4,
 "nbformat_minor": 2
}
